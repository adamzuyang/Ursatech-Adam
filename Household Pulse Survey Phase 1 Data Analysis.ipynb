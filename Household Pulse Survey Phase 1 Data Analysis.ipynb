{
 "cells": [
  {
   "cell_type": "markdown",
   "metadata": {},
   "source": [
    "# Household Pulse Survey Phase 1 Data Analysis\n",
    "- UrsaMinor Jupyter Notebook\n",
    "- 17 November 2020\n",
    "- By Barnett Yang"
   ]
  },
  {
   "cell_type": "markdown",
   "metadata": {},
   "source": [
    "## Goals\n",
    "- Analyze reductions in income and increase in poverty by race due to the COVID-19 pandemic.\n",
    "- Relate such correlations to reductions in academic performance by race and income."
   ]
  },
  {
   "cell_type": "markdown",
   "metadata": {},
   "source": [
    "## Indicators and Relevant Variables"
   ]
  },
  {
   "cell_type": "markdown",
   "metadata": {},
   "source": [
    "### Demographics\n",
    "- RHispanic: Hispanic Origin\n",
    "    - 1: No, not of Hispanic, Latino, or Spanish origin\n",
    "    - 2: Yes, or Hispanic, Latino, or Spanish origin\n",
    "- RRace: Race\n",
    "    - 1: White, Alone\n",
    "    - 2: Black, Alone\n",
    "    - 3: Asian, Alone\n",
    "    - 4: Any other race alone, or race in combination\n",
    "- EEDUC: Educational attainment\n",
    "    - 1: Less than high school\n",
    "    - 2: Some high school\n",
    "    - 3: High school graduate or equivalent (e.g. GED)\n",
    "    - 4: Some college, but degree not received or is in process\n",
    "    - 5: Associate's degree (e.g. AA, AS)\n",
    "    - 6: Bachelor's degree (e.g. BA, BS, AB)\n",
    "    - 7: Graduate degree (e.g. master's, professional, doctorate)"
   ]
  },
  {
   "cell_type": "markdown",
   "metadata": {},
   "source": [
    "### Income and Economic Prosperity Variables\n",
    "- WRKLOSS: Recent household job loss\n",
    "    - 1: Yes\n",
    "    - 2: No\n",
    "- EXPCTLOSS: Expected household job loss\n",
    "    - 1: Yes\n",
    "    - 2: No\n",
    "- ANYWORK: Employment status for last 7 days\n",
    "    - 1: Yes\n",
    "    - 2: No\n",
    "- INCOME: Total household income (before taxes, in US dollars 2020)\n",
    "    - 1: Less than 25000\n",
    "    - 2: 25000 - 34999\n",
    "    - 3: 35000 - 49999\n",
    "    - 4: 50000 - 74999\n",
    "    - 6: 100000 - 149999\n",
    "    - 7: 150000 - 199999"
   ]
  },
  {
   "cell_type": "markdown",
   "metadata": {},
   "source": [
    "## Miscellaneous Notes and Libraries\n",
    "The data can be found at https://www.census.gov/programs-surveys/household-pulse-survey/datasets.html."
   ]
  },
  {
   "cell_type": "code",
   "execution_count": 1,
   "metadata": {},
   "outputs": [],
   "source": [
    "import pandas as pd\n",
    "import numpy as np"
   ]
  },
  {
   "cell_type": "markdown",
   "metadata": {},
   "source": [
    "## Upload Raw Data"
   ]
  },
  {
   "cell_type": "markdown",
   "metadata": {},
   "source": [
    "### Week 1: April 23 - May 5"
   ]
  },
  {
   "cell_type": "code",
   "execution_count": 2,
   "metadata": {},
   "outputs": [],
   "source": [
    "week1 = pd.read_csv('../data/Household_Pulse_Survey_Phase_1/HPS_Week01_PUF_CSV/pulse2020_puf_01.csv')"
   ]
  },
  {
   "cell_type": "markdown",
   "metadata": {},
   "source": [
    "### Week 2: May 7 - May 12"
   ]
  },
  {
   "cell_type": "code",
   "execution_count": 3,
   "metadata": {},
   "outputs": [],
   "source": [
    "week2 = pd.read_csv('../data/Household_Pulse_Survey_Phase_1/HPS_Week02_PUF_CSV/pulse2020_puf_02.csv')"
   ]
  },
  {
   "cell_type": "markdown",
   "metadata": {},
   "source": [
    "### Week 3: May 14 - May 19"
   ]
  },
  {
   "cell_type": "code",
   "execution_count": 4,
   "metadata": {},
   "outputs": [],
   "source": [
    "week3 = pd.read_csv('../data/Household_Pulse_Survey_Phase_1/HPS_Week03_PUF_CSV/pulse2020_puf_03.csv')"
   ]
  },
  {
   "cell_type": "markdown",
   "metadata": {},
   "source": [
    "### Week 4: May 21 - May 26"
   ]
  },
  {
   "cell_type": "code",
   "execution_count": 5,
   "metadata": {},
   "outputs": [],
   "source": [
    "week4 = pd.read_csv('../data/Household_Pulse_Survey_Phase_1/HPS_Week04_PUF_CSV/pulse2020_puf_04.csv')"
   ]
  },
  {
   "cell_type": "markdown",
   "metadata": {},
   "source": [
    "### Week 5: May 28 - June 2"
   ]
  },
  {
   "cell_type": "code",
   "execution_count": 6,
   "metadata": {},
   "outputs": [],
   "source": [
    "week5 = pd.read_csv('../data/Household_Pulse_Survey_Phase_1/HPS_Week05_PUF_CSV/pulse2020_puf_05.csv')"
   ]
  },
  {
   "cell_type": "markdown",
   "metadata": {},
   "source": [
    "### Week 6: June 4 - June 9"
   ]
  },
  {
   "cell_type": "code",
   "execution_count": 7,
   "metadata": {},
   "outputs": [],
   "source": [
    "week6 = pd.read_csv('../data/Household_Pulse_Survey_Phase_1/HPS_Week06_PUF_CSV/pulse2020_puf_06.csv')"
   ]
  },
  {
   "cell_type": "markdown",
   "metadata": {},
   "source": [
    "### Week 7: June 11 - June 16"
   ]
  },
  {
   "cell_type": "code",
   "execution_count": 8,
   "metadata": {},
   "outputs": [],
   "source": [
    "week7 = pd.read_csv('../data/Household_Pulse_Survey_Phase_1/HPS_Week07_PUF_CSV/pulse2020_puf_07.csv')"
   ]
  },
  {
   "cell_type": "markdown",
   "metadata": {},
   "source": [
    "### Week 8: June 18 - June 23"
   ]
  },
  {
   "cell_type": "code",
   "execution_count": 9,
   "metadata": {},
   "outputs": [],
   "source": [
    "week8 = pd.read_csv('../data/Household_Pulse_Survey_Phase_1/HPS_Week08_PUF_CSV/pulse2020_puf_08.csv')"
   ]
  },
  {
   "cell_type": "markdown",
   "metadata": {},
   "source": [
    "### Week 9: June 25 - June 30"
   ]
  },
  {
   "cell_type": "code",
   "execution_count": 10,
   "metadata": {},
   "outputs": [],
   "source": [
    "week9 = pd.read_csv('../data/Household_Pulse_Survey_Phase_1/HPS_Week09_PUF_CSV/pulse2020_puf_09.csv')"
   ]
  },
  {
   "cell_type": "markdown",
   "metadata": {},
   "source": [
    "### Week 10: July 2 - July 7"
   ]
  },
  {
   "cell_type": "code",
   "execution_count": 11,
   "metadata": {},
   "outputs": [],
   "source": [
    "week10 = pd.read_csv('../data/Household_Pulse_Survey_Phase_1/HPS_Week10_PUF_CSV/pulse2020_puf_10.csv')"
   ]
  },
  {
   "cell_type": "markdown",
   "metadata": {},
   "source": [
    "### Week 11: July 9 - July 14"
   ]
  },
  {
   "cell_type": "code",
   "execution_count": 12,
   "metadata": {},
   "outputs": [],
   "source": [
    "week11 = pd.read_csv('../data/Household_Pulse_Survey_Phase_1/HPS_Week11_PUF_CSV/pulse2020_puf_11.csv')"
   ]
  },
  {
   "cell_type": "markdown",
   "metadata": {},
   "source": [
    "### Week 12: July 16 - July 21"
   ]
  },
  {
   "cell_type": "code",
   "execution_count": 13,
   "metadata": {},
   "outputs": [],
   "source": [
    "week12 = pd.read_csv('../data/Household_Pulse_Survey_Phase_1/HPS_Week12_PUF_CSV/pulse2020_puf_12.csv')"
   ]
  }
 ],
 "metadata": {
  "kernelspec": {
   "display_name": "Python 3",
   "language": "python",
   "name": "python3"
  },
  "language_info": {
   "codemirror_mode": {
    "name": "ipython",
    "version": 3
   },
   "file_extension": ".py",
   "mimetype": "text/x-python",
   "name": "python",
   "nbconvert_exporter": "python",
   "pygments_lexer": "ipython3",
   "version": "3.8.5"
  }
 },
 "nbformat": 4,
 "nbformat_minor": 4
}
