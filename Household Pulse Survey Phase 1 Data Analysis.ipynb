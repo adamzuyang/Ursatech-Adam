{
 "cells": [
  {
   "cell_type": "markdown",
   "metadata": {},
   "source": [
    "# Household Pulse Survey Phase 1 Data Analysis\n",
    "- UrsaMinor Jupyter Notebook\n",
    "- 17 November 2020\n",
    "- By Barnett Yang"
   ]
  },
  {
   "cell_type": "markdown",
   "metadata": {},
   "source": [
    "## Goals\n",
    "- Analyze reductions in income and increase in poverty by race due to the COVID-19 pandemic.\n",
    "- Relate such correlations to reductions in academic performance by race and income."
   ]
  },
  {
   "cell_type": "markdown",
   "metadata": {},
   "source": [
    "## Indicators and Relevant Variables"
   ]
  },
  {
   "cell_type": "markdown",
   "metadata": {},
   "source": [
    "### Demographics\n",
    "- RHISPANIC: Hispanic Origin\n",
    "    - 1: No, not of Hispanic, Latino, or Spanish origin\n",
    "    - 2: Yes, of Hispanic, Latino, or Spanish origin\n",
    "- RRACE: Race\n",
    "    - 1: White, Alone\n",
    "    - 2: Black, Alone\n",
    "    - 3: Asian, Alone\n",
    "    - 4: Any other race alone, or race in combination\n",
    "- EEDUC: Educational attainment\n",
    "    - 1: Less than high school\n",
    "    - 2: Some high school\n",
    "    - 3: High school graduate or equivalent (e.g. GED)\n",
    "    - 4: Some college, but degree not received or is in process\n",
    "    - 5: Associate's degree (e.g. AA, AS)\n",
    "    - 6: Bachelor's degree (e.g. BA, BS, AB)\n",
    "    - 7: Graduate degree (e.g. master's, professional, doctorate)"
   ]
  },
  {
   "cell_type": "markdown",
   "metadata": {},
   "source": [
    "### Income and Economic Prosperity Variables\n",
    "- WRKLOSS: Recent household job loss\n",
    "    - 1: Yes\n",
    "    - 2: No\n",
    "- EXPCTLOSS: Expected household job loss\n",
    "    - 1: Yes\n",
    "    - 2: No\n",
    "- ANYWORK: Employment status for last 7 days\n",
    "    - 1: Yes\n",
    "    - 2: No\n",
    "- INCOME: Total household income (before taxes, as reported in 2019) (May not be helpful since it reflects 2019 tax levels)\n",
    "    - 1: Less than 25000\n",
    "    - 2: 25000 - 34999\n",
    "    - 3: 35000 - 49999\n",
    "    - 4: 50000 - 74999\n",
    "    - 6: 100000 - 149999\n",
    "    - 7: 150000 - 199999\n",
    "    - 8: 200000 and above"
   ]
  },
  {
   "cell_type": "markdown",
   "metadata": {},
   "source": [
    "## Miscellaneous Notes and Libraries\n",
    "The data can be found at https://www.census.gov/programs-surveys/household-pulse-survey/datasets.html."
   ]
  },
  {
   "cell_type": "code",
   "execution_count": 1,
   "metadata": {},
   "outputs": [],
   "source": [
    "import pandas as pd\n",
    "import numpy as np\n",
    "import matplotlib.pyplot as plt"
   ]
  },
  {
   "cell_type": "markdown",
   "metadata": {},
   "source": [
    "## Upload Raw Data"
   ]
  },
  {
   "cell_type": "markdown",
   "metadata": {},
   "source": [
    "### Week 1: April 23 - May 5"
   ]
  },
  {
   "cell_type": "code",
   "execution_count": 2,
   "metadata": {},
   "outputs": [],
   "source": [
    "week1 = pd.read_csv('../data/Household_Pulse_Survey_Phase_1/HPS_Week01_PUF_CSV/pulse2020_puf_01.csv')"
   ]
  },
  {
   "cell_type": "markdown",
   "metadata": {},
   "source": [
    "### Week 2: May 7 - May 12"
   ]
  },
  {
   "cell_type": "code",
   "execution_count": 3,
   "metadata": {},
   "outputs": [],
   "source": [
    "week2 = pd.read_csv('../data/Household_Pulse_Survey_Phase_1/HPS_Week02_PUF_CSV/pulse2020_puf_02.csv')"
   ]
  },
  {
   "cell_type": "markdown",
   "metadata": {},
   "source": [
    "### Week 3: May 14 - May 19"
   ]
  },
  {
   "cell_type": "code",
   "execution_count": 4,
   "metadata": {},
   "outputs": [],
   "source": [
    "week3 = pd.read_csv('../data/Household_Pulse_Survey_Phase_1/HPS_Week03_PUF_CSV/pulse2020_puf_03.csv')"
   ]
  },
  {
   "cell_type": "markdown",
   "metadata": {},
   "source": [
    "### Week 4: May 21 - May 26"
   ]
  },
  {
   "cell_type": "code",
   "execution_count": 5,
   "metadata": {},
   "outputs": [],
   "source": [
    "week4 = pd.read_csv('../data/Household_Pulse_Survey_Phase_1/HPS_Week04_PUF_CSV/pulse2020_puf_04.csv')"
   ]
  },
  {
   "cell_type": "markdown",
   "metadata": {},
   "source": [
    "### Week 5: May 28 - June 2"
   ]
  },
  {
   "cell_type": "code",
   "execution_count": 6,
   "metadata": {},
   "outputs": [],
   "source": [
    "week5 = pd.read_csv('../data/Household_Pulse_Survey_Phase_1/HPS_Week05_PUF_CSV/pulse2020_puf_05.csv')"
   ]
  },
  {
   "cell_type": "markdown",
   "metadata": {},
   "source": [
    "### Week 6: June 4 - June 9"
   ]
  },
  {
   "cell_type": "code",
   "execution_count": 7,
   "metadata": {},
   "outputs": [],
   "source": [
    "week6 = pd.read_csv('../data/Household_Pulse_Survey_Phase_1/HPS_Week06_PUF_CSV/pulse2020_puf_06.csv')"
   ]
  },
  {
   "cell_type": "markdown",
   "metadata": {},
   "source": [
    "### Week 7: June 11 - June 16"
   ]
  },
  {
   "cell_type": "code",
   "execution_count": 8,
   "metadata": {},
   "outputs": [],
   "source": [
    "week7 = pd.read_csv('../data/Household_Pulse_Survey_Phase_1/HPS_Week07_PUF_CSV/pulse2020_puf_07.csv')"
   ]
  },
  {
   "cell_type": "markdown",
   "metadata": {},
   "source": [
    "### Week 8: June 18 - June 23"
   ]
  },
  {
   "cell_type": "code",
   "execution_count": 9,
   "metadata": {},
   "outputs": [],
   "source": [
    "week8 = pd.read_csv('../data/Household_Pulse_Survey_Phase_1/HPS_Week08_PUF_CSV/pulse2020_puf_08.csv')"
   ]
  },
  {
   "cell_type": "markdown",
   "metadata": {},
   "source": [
    "### Week 9: June 25 - June 30"
   ]
  },
  {
   "cell_type": "code",
   "execution_count": 10,
   "metadata": {},
   "outputs": [],
   "source": [
    "week9 = pd.read_csv('../data/Household_Pulse_Survey_Phase_1/HPS_Week09_PUF_CSV/pulse2020_puf_09.csv')"
   ]
  },
  {
   "cell_type": "markdown",
   "metadata": {},
   "source": [
    "### Week 10: July 2 - July 7"
   ]
  },
  {
   "cell_type": "code",
   "execution_count": 11,
   "metadata": {},
   "outputs": [],
   "source": [
    "week10 = pd.read_csv('../data/Household_Pulse_Survey_Phase_1/HPS_Week10_PUF_CSV/pulse2020_puf_10.csv')"
   ]
  },
  {
   "cell_type": "markdown",
   "metadata": {},
   "source": [
    "### Week 11: July 9 - July 14"
   ]
  },
  {
   "cell_type": "code",
   "execution_count": 12,
   "metadata": {},
   "outputs": [],
   "source": [
    "week11 = pd.read_csv('../data/Household_Pulse_Survey_Phase_1/HPS_Week11_PUF_CSV/pulse2020_puf_11.csv')"
   ]
  },
  {
   "cell_type": "markdown",
   "metadata": {},
   "source": [
    "### Week 12: July 16 - July 21"
   ]
  },
  {
   "cell_type": "code",
   "execution_count": 13,
   "metadata": {},
   "outputs": [],
   "source": [
    "week12 = pd.read_csv('../data/Household_Pulse_Survey_Phase_1/HPS_Week12_PUF_CSV/pulse2020_puf_12.csv')"
   ]
  },
  {
   "cell_type": "markdown",
   "metadata": {},
   "source": [
    "## Constants and Functions, Filter only Relevant Indicators"
   ]
  },
  {
   "cell_type": "code",
   "execution_count": 14,
   "metadata": {},
   "outputs": [],
   "source": [
    "indicators = ['RHISPANIC', 'RRACE', 'EEDUC', 'WRKLOSS', 'EXPCTLOSS', 'ANYWORK', 'INCOME']\n",
    "work_indicators = ['WRKLOSS', 'EXPCTLOSS', 'ANYWORK', 'INCOME']\n",
    "\n",
    "week1 = week1[indicators]\n",
    "week2 = week2[indicators]\n",
    "week3 = week3[indicators]\n",
    "week4 = week4[indicators]\n",
    "week5 = week5[indicators]\n",
    "week6 = week6[indicators]\n",
    "week7 = week7[indicators]\n",
    "week8 = week8[indicators]\n",
    "week9 = week9[indicators]\n",
    "week10 = week10[indicators]\n",
    "week11 = week11[indicators]\n",
    "week12 = week12[indicators]\n",
    "\n",
    "phase1 = [week1, week2, week3, week4, week5, week6, week7, week8, week9, week10, week11, week12]\n",
    "\n",
    "# Useful for changing x-axis labels later in the INCOME section\n",
    "positions = ['WEEK ' + str(i) + ' PERCENT' for i in range(1, 13)]\n",
    "labels = [i for i in range(1, 13)]\n",
    "\n",
    "# Useful for changing x-axis labels later in the WRKLOSS section\n",
    "wrkloss_positions = ['WEEK ' + str(i) + ' WRKLOSS PERCENT' for i in range(1, 13)]\n",
    "\n",
    "# Useful for changing x-axis labels later in the ANYWORK section\n",
    "anywork_positions = ['WEEK ' + str(i) + ' ANYWORK PERCENT' for i in range(1, 13)]"
   ]
  },
  {
   "cell_type": "markdown",
   "metadata": {},
   "source": [
    "## Changes in Employment Status Over the Course of the COVID-19 Pandemic Based on Race"
   ]
  },
  {
   "cell_type": "markdown",
   "metadata": {},
   "source": [
    "### Hispanic"
   ]
  },
  {
   "cell_type": "code",
   "execution_count": 15,
   "metadata": {},
   "outputs": [
    {
     "name": "stdout",
     "output_type": "stream",
     "text": [
      "   WEEK 1 WRKLOSS  WEEK 1 WRKLOSS PERCENT  WEEK 1 EXPCTLOSS  \\\n",
      "1            2970               49.899194              2676   \n",
      "2            2982               50.100806              3260   \n",
      "\n",
      "   WEEK 1 EXPCTLOSS PERCENT  WEEK 1 ANYWORK  WEEK 1 ANYWORK PERCENT  \\\n",
      "1                 45.080863            3363               56.587582   \n",
      "2                 54.919137            2580               43.412418   \n",
      "\n",
      "   WEEK 1 INCOME  WEEK 1 INCOME PERCENT  WEEK 2 WRKLOSS  \\\n",
      "1            895              17.341600            1589   \n",
      "2            691              13.388878            1505   \n",
      "\n",
      "   WEEK 2 WRKLOSS PERCENT  ...  WEEK 11 INCOME  WEEK 11 INCOME PERCENT  \\\n",
      "1               51.357466  ...            1262               18.005422   \n",
      "2               48.642534  ...             951               13.568269   \n",
      "\n",
      "   WEEK 12 WRKLOSS  WEEK 12 WRKLOSS PERCENT  WEEK 12 EXPCTLOSS  \\\n",
      "1             4391                55.087191               3470   \n",
      "2             3580                44.912809               4486   \n",
      "\n",
      "   WEEK 12 EXPCTLOSS PERCENT  WEEK 12 ANYWORK  WEEK 12 ANYWORK PERCENT  \\\n",
      "1                  43.614882             4469                56.136164   \n",
      "2                  56.385118             3492                43.863836   \n",
      "\n",
      "   WEEK 12 INCOME  WEEK 12 INCOME PERCENT  \n",
      "1            1205               18.098528  \n",
      "2             921               13.832983  \n",
      "\n",
      "[2 rows x 96 columns]\n"
     ]
    }
   ],
   "source": [
    "hispanic_work = pd.DataFrame()\n",
    "\n",
    "for i in range(len(phase1)):\n",
    "    week = phase1[i][phase1[i]['RHISPANIC'] == 2]\n",
    "    \n",
    "    for indicator in work_indicators:\n",
    "        week_indicator = week[indicator].value_counts().to_frame()\n",
    "        num_drop = len([i for i in week_indicator.index if i < 0])\n",
    "        week_indicator = week_indicator.sort_index().iloc[num_drop:]\n",
    "        week_indicator['PERCENT'] = week_indicator[indicator] / week_indicator[indicator].sum() * 100\n",
    "    \n",
    "        hispanic_work['WEEK ' + str(i + 1) + ' ' + indicator] = week_indicator[indicator]\n",
    "        hispanic_work['WEEK ' + str(i + 1) + ' ' + indicator + ' PERCENT'] = week_indicator['PERCENT']\n",
    "    \n",
    "print(hispanic_work)"
   ]
  },
  {
   "cell_type": "markdown",
   "metadata": {},
   "source": [
    "### Visualizations"
   ]
  },
  {
   "cell_type": "code",
   "execution_count": 16,
   "metadata": {},
   "outputs": [
    {
     "data": {
      "text/plain": [
       "Text(0.5, 1.0, 'Changes in percent Hispanic population with recent employment')"
      ]
     },
     "execution_count": 16,
     "metadata": {},
     "output_type": "execute_result"
    },
    {
     "data": {
      "image/png": "[encoded data removed]",
      "text/plain": [
       "<Figure size 432x288 with 1 Axes>"
      ]
     },
     "metadata": {
      "needs_background": "light"
     },
     "output_type": "display_data"
    },
    {
     "data": {
      "image/png": "[encoded data removed]",
      "text/plain": [
       "<Figure size 432x288 with 1 Axes>"
      ]
     },
     "metadata": {
      "needs_background": "light"
     },
     "output_type": "display_data"
    }
   ],
   "source": [
    "plt.figure(5)\n",
    "\n",
    "for i in range(2):\n",
    "    week = hispanic_work.iloc[i].to_frame()\n",
    "    week = week[week.index.str.contains('WRKLOSS PERCENT')]\n",
    "    plt.plot(week, label='JOB LOSS STATUS ' + str(i + 1))\n",
    "\n",
    "plt.xticks(wrkloss_positions, labels)\n",
    "plt.legend()\n",
    "plt.xlabel('Number of weeks')\n",
    "plt.ylabel('Percent population in workloss category')\n",
    "plt.title('Changes in percent Hispanic population with recent household job loss')\n",
    "\n",
    "\n",
    "plt.figure(6)\n",
    "\n",
    "for i in range(2):\n",
    "    week = hispanic_work.iloc[i].to_frame()\n",
    "    week = week[week.index.str.contains('ANYWORK PERCENT')]\n",
    "    plt.plot(week, label='EMPLOYMENT STATUS ' + str(i + 1))\n",
    "\n",
    "plt.xticks(anywork_positions, labels)\n",
    "plt.legend()\n",
    "plt.xlabel('Number of weeks')\n",
    "plt.ylabel('Percent population in employment status category')\n",
    "plt.title('Changes in percent Hispanic population with recent employment')"
   ]
  },
  {
   "cell_type": "markdown",
   "metadata": {},
   "source": [
    "### White"
   ]
  },
  {
   "cell_type": "code",
   "execution_count": 17,
   "metadata": {},
   "outputs": [
    {
     "name": "stdout",
     "output_type": "stream",
     "text": [
      "   WEEK 1 WRKLOSS  WEEK 1 WRKLOSS PERCENT  WEEK 1 EXPCTLOSS  \\\n",
      "1           22744               37.258981             18535   \n",
      "2           38299               62.741019             42409   \n",
      "\n",
      "   WEEK 1 EXPCTLOSS PERCENT  WEEK 1 ANYWORK  WEEK 1 ANYWORK PERCENT  \\\n",
      "1                 30.413166           34161               55.997049   \n",
      "2                 69.586834           26844               44.002951   \n",
      "\n",
      "   WEEK 1 INCOME  WEEK 1 INCOME PERCENT  WEEK 2 WRKLOSS  \\\n",
      "1           5612              10.212735           13206   \n",
      "2           4777               8.693199           21895   \n",
      "\n",
      "   WEEK 2 WRKLOSS PERCENT  ...  WEEK 11 INCOME  WEEK 11 INCOME PERCENT  \\\n",
      "1                37.62286  ...            6532                9.841055   \n",
      "2                62.37714  ...            5843                8.803013   \n",
      "\n",
      "   WEEK 12 WRKLOSS  WEEK 12 WRKLOSS PERCENT  WEEK 12 EXPCTLOSS  \\\n",
      "1            28230                39.672279              18601   \n",
      "2            42928                60.327721              52478   \n",
      "\n",
      "   WEEK 12 EXPCTLOSS PERCENT  WEEK 12 ANYWORK  WEEK 12 ANYWORK PERCENT  \\\n",
      "1                  26.169473            41090                57.739057   \n",
      "2                  73.830527            30075                42.260943   \n",
      "\n",
      "   WEEK 12 INCOME  WEEK 12 INCOME PERCENT  \n",
      "1            6234                9.982706  \n",
      "2            5540                8.871381  \n",
      "\n",
      "[2 rows x 96 columns]\n"
     ]
    }
   ],
   "source": [
    "white_work = pd.DataFrame()\n",
    "\n",
    "for i in range(len(phase1)):\n",
    "    week = phase1[i][phase1[i]['RRACE'] == 1]\n",
    "    \n",
    "    for indicator in work_indicators:\n",
    "        week_indicator = week[indicator].value_counts().to_frame()\n",
    "        num_drop = len([i for i in week_indicator.index if i < 0])\n",
    "        week_indicator = week_indicator.sort_index().iloc[num_drop:]\n",
    "        week_indicator['PERCENT'] = week_indicator[indicator] / week_indicator[indicator].sum() * 100\n",
    "    \n",
    "        white_work['WEEK ' + str(i + 1) + ' ' + indicator] = week_indicator[indicator]\n",
    "        white_work['WEEK ' + str(i + 1) + ' ' + indicator + ' PERCENT'] = week_indicator['PERCENT']\n",
    "    \n",
    "print(white_work)"
   ]
  },
  {
   "cell_type": "markdown",
   "metadata": {},
   "source": [
    "### Visualizations"
   ]
  },
  {
   "cell_type": "code",
   "execution_count": 18,
   "metadata": {},
   "outputs": [
    {
     "data": {
      "text/plain": [
       "Text(0.5, 1.0, 'Changes in percent White population with recent employment')"
      ]
     },
     "execution_count": 18,
     "metadata": {},
     "output_type": "execute_result"
    },
    {
     "data": {
      "image/png": "[encoded data removed]",
      "text/plain": [
       "<Figure size 432x288 with 1 Axes>"
      ]
     },
     "metadata": {
      "needs_background": "light"
     },
     "output_type": "display_data"
    },
    {
     "data": {
      "image/png": "[encoded data removed]",
      "text/plain": [
       "<Figure size 432x288 with 1 Axes>"
      ]
     },
     "metadata": {
      "needs_background": "light"
     },
     "output_type": "display_data"
    }
   ],
   "source": [
    "plt.figure(7)\n",
    "\n",
    "for i in range(2):\n",
    "    week = white_work.iloc[i].to_frame()\n",
    "    week = week[week.index.str.contains('WRKLOSS PERCENT')]\n",
    "    plt.plot(week, label='JOB LOSS STATUS ' + str(i + 1))\n",
    "\n",
    "plt.xticks(wrkloss_positions, labels)\n",
    "plt.legend()\n",
    "plt.xlabel('Number of weeks')\n",
    "plt.ylabel('Percent population in workloss category')\n",
    "plt.title('Changes in percent White population with recent household job loss')\n",
    "\n",
    "\n",
    "plt.figure(8)\n",
    "\n",
    "for i in range(2):\n",
    "    week = white_work.iloc[i].to_frame()\n",
    "    week = week[week.index.str.contains('ANYWORK PERCENT')]\n",
    "    plt.plot(week, label='EMPLOYMENT STATUS ' + str(i + 1))\n",
    "\n",
    "plt.xticks(anywork_positions, labels)\n",
    "plt.legend()\n",
    "plt.xlabel('Number of weeks')\n",
    "plt.ylabel('Percent population in employment status category')\n",
    "plt.title('Changes in percent White population with recent employment')"
   ]
  },
  {
   "cell_type": "markdown",
   "metadata": {},
   "source": [
    "### Black"
   ]
  }
 ],
 "metadata": {
  "kernelspec": {
   "display_name": "Python 3",
   "language": "python",
   "name": "python3"
  },
  "language_info": {
   "codemirror_mode": {
    "name": "ipython",
    "version": 3
   },
   "file_extension": ".py",
   "mimetype": "text/x-python",
   "name": "python",
   "nbconvert_exporter": "python",
   "pygments_lexer": "ipython3",
   "version": "3.8.5"
  }
 },
 "nbformat": 4,
 "nbformat_minor": 4
}
