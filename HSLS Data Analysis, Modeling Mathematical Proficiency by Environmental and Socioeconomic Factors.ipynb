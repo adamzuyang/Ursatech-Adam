{
 "cells": [
  {
   "cell_type": "markdown",
   "metadata": {},
   "source": [
    "# HSLS Data Analysis: Modeling Mathematical Proficiency by Environmental and Socioeconomic Factors\n",
    "- UrsaTech Jupyter Notebook\n",
    "- 25 November 2020\n",
    "- By Barnett Yang"
   ]
  },
  {
   "cell_type": "markdown",
   "metadata": {},
   "source": [
    "## Table of Contents\n",
    "* [Goals](#goals)\n",
    "* [Miscellaneous Notes and Libraries](#notes)\n",
    "* [Indicators and Relevant Variables](#vars)\n",
    "* [Modeling the Data Using Linear Regression and Neural Networks](#model)\n",
    "* [ANOVA Testing: Measuring Variance of Math Theta Scores By Poverty and Income](#anova)\n",
    "* [Conclusions](#conclusions)"
   ]
  },
  {
   "cell_type": "markdown",
   "metadata": {},
   "source": [
    "## Goals<a id=\"goals\"></a>\n",
    "1. Model mathematical proficiency by environmental and socioeconomic variables without looking at academic indicators.\n",
    "2. ANOVA test mathematics theta scores by poverty and income."
   ]
  },
  {
   "cell_type": "markdown",
   "metadata": {},
   "source": [
    "## Miscellaneous Notes and Libraries<a id='notes'></a>"
   ]
  },
  {
   "cell_type": "code",
   "execution_count": 1,
   "metadata": {},
   "outputs": [],
   "source": [
    "import pandas as pd\n",
    "import numpy as np\n",
    "import matplotlib.pyplot as plt\n",
    "from sklearn.linear_model import LinearRegression\n",
    "from sklearn.model_selection import train_test_split\n",
    "from sklearn.metrics import mean_squared_error, mean_absolute_error\n",
    "from sklearn import preprocessing\n",
    "import seaborn as sns\n",
    "\n",
    "import tensorflow as tf\n",
    "from tensorflow import keras\n",
    "from tensorflow.keras.layers.experimental import preprocessing\n",
    "\n",
    "import statsmodels.api as sm\n",
    "from statsmodels.formula.api import ols\n",
    "\n",
    "sns.set(rc={'figure.figsize':(11.7, 8.27)})"
   ]
  },
  {
   "cell_type": "markdown",
   "metadata": {},
   "source": [
    "## Indicators and Relevant Variables<a id='vars'></a>\n",
    "\n",
    "### Relevant Academic Success Indicators\n",
    "- X2TXMTH: Mathematics theta score in first follow-up. \n",
    "    - Measured relative to the population as a whole.\n",
    "    - Norm-referenced measure of achievement. \n",
    "    - Min: -8, Max: 4.5046, Mean: -0.3623, Std: 3.0663.\n",
    "- X2TXMSCR: Mathematics IRT-estimated number right score. \n",
    "    - 2009 9th graders.\n",
    "    - Min: -8, Max: 115.1, Mean: 57.9116, Std: 30.6156.\n",
    "- X2TXMQUINT: Mathematics quintile score. \n",
    "    - 1 (lowest) to 5 (highest).\n",
    "    - Note: Remove unit non-response (-8).\n",
    "    - Based off of base year 2009 Mathematics Assessment of Algebraic Reasoning. See section 2.3 of https://nces.ed.gov/pubs2014/2014361.pdf for details.\n",
    "    \n",
    "### Sex, Race, Family Income, Poverty Level Variables\n",
    "- X1SEX: Student Sex.\n",
    "    - 1: Male\n",
    "    - 2: Female\n",
    "- X1RACE: Student Race. \n",
    "    - 1: American Indian/Alaska Native \n",
    "    - 2: Asian\n",
    "    - 3: Black/African-American\n",
    "    - 4: Hispanic, no race specified\n",
    "    - 5: Hispanic, race specified\n",
    "    - 7: Native Hawaiian/Pacific Islander\n",
    "    - 8: White\n",
    "- X2FAMINCOME: Total family income from all sources (in US dollars, 2011). \n",
    "    - 1: <= 15000\n",
    "    - 2: > 15000 and <= 35000\n",
    "    - 3: > 35,000 and <= 55,000\n",
    "    - 4: > 55,000 and <= 75,000\n",
    "    - 5: > 75,000 and <= 95,000\n",
    "    - 6: > 95,000 and <= 115,000\n",
    "    - 7: > 115,000 and <= 135,000\n",
    "    - 8: > 135,000 and <= 155,000\n",
    "    - 9: > 155,000 and <= 175,000\n",
    "    - 10: > 175,000 and <= 195,000\n",
    "    - 11: > 195,000 and <= 215,000\n",
    "    - 12: > 215,000 and <= 235,000\n",
    "    - 13: > 235,000; \n",
    "    - -8: Unit non-response\n",
    "- X2POVERTY: X2 Poverty indicator.\n",
    "    - Relative to 100% of Census poverty threshold. \n",
    "    - 0: At or above poverty threshold\n",
    "    - 1: Below poverty threshold\n",
    "    - Note: Remove Unit non-response (-8).\n",
    "- X1DADEDU: Father's/male guardian's highest level of education.\n",
    "    - 0: No bio/adoptive/step-father in household\n",
    "    - 1: Less than high school\n",
    "    - 2: High school deploma or GED\n",
    "    - 3: Associate's degree\n",
    "    - 4: Bachelor's degree\n",
    "    - 5: Master's degree\n",
    "    - 7: Ph.D/M.D/Law/other high lvl prof degree\n",
    "    - -9: Missing\n",
    "    - -8: Unit non-response\n",
    "- X1MOMEDU: Mother's/female guardian's highest level of education.\n",
    "    - 0: No bio/adoptive/step-mother in household\n",
    "    - 1: Less than high school\n",
    "    - 2: High school deploma or GED\n",
    "    - 3: Associate's degree\n",
    "    - 4: Bachelor's degree\n",
    "    - 5: Master's degree\n",
    "    - 7: Ph.D/M.D/Law/other high lvl prof degree\n",
    "    - -9: Missing\n",
    "    - -8: Unit non-response\n",
    "- X2SES_U: Socio-economic status composite derived with locale (urbanicity).\n",
    "    - Constructed using parent/guardians' education, occupation, family income, and school urbancity\n",
    "- X2MTHID: Scale of studen'ts mathematics identity.\n",
    "- X2HHNUMBER: Number of 2012 household members.\n",
    "- X1SCHOOLENG: Scale of student's school engagement.\n",
    "- X1SCHOOLBEL: Scale of student's sense of school belonging."
   ]
  },
  {
   "cell_type": "markdown",
   "metadata": {},
   "source": [
    "## Modeling the Data Using Linear Regression and Neural Networks<a id='model'></a>"
   ]
  },
  {
   "cell_type": "markdown",
   "metadata": {},
   "source": [
    "### Constants and Load Data"
   ]
  },
  {
   "cell_type": "code",
   "execution_count": 17,
   "metadata": {},
   "outputs": [],
   "source": [
    "variables = ['X2POVERTY', 'X2FAMINCOME', 'X1RACE', 'X1SEX', 'X2SES_U', 'X2MTHID', 'X2HHNUMBER', 'X1DADEDU', 'X1MOMEDU', \n",
    "             'X1SCHOOLENG', 'X1SCHOOLBEL', 'X2TXMTH']\n",
    "data = pd.read_csv('../data/HSLS_2017_Datasets/hsls_17_student.csv', usecols=variables)\n",
    "\n",
    "# Filter out non-respondants\n",
    "data = data[(data['X2POVERTY'] >= 0) & (data['X2FAMINCOME'] > 0) & (data['X1RACE'] > 0) & \n",
    "            (data['X2SES_U'] > -8.0000) & (data['X2MTHID'] > -8.0000) & (data['X2HHNUMBER'] > 0) & \n",
    "            (data['X1DADEDU'] > 0) & (data['X1MOMEDU'] > 0) & (data['X1SCHOOLENG'] > -8.0000) & \n",
    "            (data['X1SCHOOLBEL'] > -8.0000) & (data['X1SEX'] > 0) & \n",
    "            (data['X2TXMTH'] > -8.0000)]\n",
    "\n",
    "# Quickly one-hot encode sex\n",
    "data['X1SEX'] = data['X1SEX'] - 1"
   ]
  },
  {
   "cell_type": "code",
   "execution_count": 18,
   "metadata": {},
   "outputs": [
    {
     "data": {
      "text/html": [
       "<div>\n",
       "<style scoped>\n",
       "    .dataframe tbody tr th:only-of-type {\n",
       "        vertical-align: middle;\n",
       "    }\n",
       "\n",
       "    .dataframe tbody tr th {\n",
       "        vertical-align: top;\n",
       "    }\n",
       "\n",
       "    .dataframe thead th {\n",
       "        text-align: right;\n",
       "    }\n",
       "</style>\n",
       "<table border=\"1\" class=\"dataframe\">\n",
       "  <thead>\n",
       "    <tr style=\"text-align: right;\">\n",
       "      <th></th>\n",
       "      <th>X1SEX</th>\n",
       "      <th>X1RACE</th>\n",
       "      <th>X1MOMEDU</th>\n",
       "      <th>X1DADEDU</th>\n",
       "      <th>X1SCHOOLBEL</th>\n",
       "      <th>X1SCHOOLENG</th>\n",
       "      <th>X2TXMTH</th>\n",
       "      <th>X2HHNUMBER</th>\n",
       "      <th>X2FAMINCOME</th>\n",
       "      <th>X2POVERTY</th>\n",
       "      <th>X2SES_U</th>\n",
       "      <th>X2MTHID</th>\n",
       "    </tr>\n",
       "  </thead>\n",
       "  <tbody>\n",
       "    <tr>\n",
       "      <th>0</th>\n",
       "      <td>0</td>\n",
       "      <td>8</td>\n",
       "      <td>5</td>\n",
       "      <td>5</td>\n",
       "      <td>0.84</td>\n",
       "      <td>-1.41</td>\n",
       "      <td>2.6606</td>\n",
       "      <td>4</td>\n",
       "      <td>11</td>\n",
       "      <td>0</td>\n",
       "      <td>1.6792</td>\n",
       "      <td>0.16</td>\n",
       "    </tr>\n",
       "    <tr>\n",
       "      <th>1</th>\n",
       "      <td>1</td>\n",
       "      <td>8</td>\n",
       "      <td>3</td>\n",
       "      <td>2</td>\n",
       "      <td>0.05</td>\n",
       "      <td>-0.20</td>\n",
       "      <td>1.0097</td>\n",
       "      <td>6</td>\n",
       "      <td>3</td>\n",
       "      <td>0</td>\n",
       "      <td>-0.3234</td>\n",
       "      <td>-0.42</td>\n",
       "    </tr>\n",
       "    <tr>\n",
       "      <th>5</th>\n",
       "      <td>1</td>\n",
       "      <td>8</td>\n",
       "      <td>3</td>\n",
       "      <td>3</td>\n",
       "      <td>-0.52</td>\n",
       "      <td>0.96</td>\n",
       "      <td>0.9994</td>\n",
       "      <td>5</td>\n",
       "      <td>5</td>\n",
       "      <td>0</td>\n",
       "      <td>0.0074</td>\n",
       "      <td>1.82</td>\n",
       "    </tr>\n",
       "    <tr>\n",
       "      <th>7</th>\n",
       "      <td>0</td>\n",
       "      <td>8</td>\n",
       "      <td>5</td>\n",
       "      <td>7</td>\n",
       "      <td>0.45</td>\n",
       "      <td>-0.20</td>\n",
       "      <td>1.9987</td>\n",
       "      <td>2</td>\n",
       "      <td>7</td>\n",
       "      <td>0</td>\n",
       "      <td>0.7948</td>\n",
       "      <td>0.70</td>\n",
       "    </tr>\n",
       "    <tr>\n",
       "      <th>8</th>\n",
       "      <td>0</td>\n",
       "      <td>8</td>\n",
       "      <td>2</td>\n",
       "      <td>2</td>\n",
       "      <td>0.11</td>\n",
       "      <td>0.10</td>\n",
       "      <td>1.6591</td>\n",
       "      <td>4</td>\n",
       "      <td>6</td>\n",
       "      <td>0</td>\n",
       "      <td>0.2285</td>\n",
       "      <td>0.70</td>\n",
       "    </tr>\n",
       "  </tbody>\n",
       "</table>\n",
       "</div>"
      ],
      "text/plain": [
       "   X1SEX  X1RACE  X1MOMEDU  X1DADEDU  X1SCHOOLBEL  X1SCHOOLENG  X2TXMTH  \\\n",
       "0      0       8         5         5         0.84        -1.41   2.6606   \n",
       "1      1       8         3         2         0.05        -0.20   1.0097   \n",
       "5      1       8         3         3        -0.52         0.96   0.9994   \n",
       "7      0       8         5         7         0.45        -0.20   1.9987   \n",
       "8      0       8         2         2         0.11         0.10   1.6591   \n",
       "\n",
       "   X2HHNUMBER  X2FAMINCOME  X2POVERTY  X2SES_U  X2MTHID  \n",
       "0           4           11          0   1.6792     0.16  \n",
       "1           6            3          0  -0.3234    -0.42  \n",
       "5           5            5          0   0.0074     1.82  \n",
       "7           2            7          0   0.7948     0.70  \n",
       "8           4            6          0   0.2285     0.70  "
      ]
     },
     "execution_count": 18,
     "metadata": {},
     "output_type": "execute_result"
    }
   ],
   "source": [
    "data.head()"
   ]
  },
  {
   "cell_type": "markdown",
   "metadata": {},
   "source": [
    "### Processing Data Set"
   ]
  },
  {
   "cell_type": "code",
   "execution_count": 19,
   "metadata": {},
   "outputs": [
    {
     "data": {
      "text/html": [
       "<div>\n",
       "<style scoped>\n",
       "    .dataframe tbody tr th:only-of-type {\n",
       "        vertical-align: middle;\n",
       "    }\n",
       "\n",
       "    .dataframe tbody tr th {\n",
       "        vertical-align: top;\n",
       "    }\n",
       "\n",
       "    .dataframe thead th {\n",
       "        text-align: right;\n",
       "    }\n",
       "</style>\n",
       "<table border=\"1\" class=\"dataframe\">\n",
       "  <thead>\n",
       "    <tr style=\"text-align: right;\">\n",
       "      <th></th>\n",
       "      <th>X1SEX</th>\n",
       "      <th>X1MOMEDU</th>\n",
       "      <th>X1DADEDU</th>\n",
       "      <th>X1SCHOOLBEL</th>\n",
       "      <th>X1SCHOOLENG</th>\n",
       "      <th>X2TXMTH</th>\n",
       "      <th>X2HHNUMBER</th>\n",
       "      <th>X2FAMINCOME</th>\n",
       "      <th>X2POVERTY</th>\n",
       "      <th>X2SES_U</th>\n",
       "      <th>X2MTHID</th>\n",
       "      <th>American Indian/Alaska Native</th>\n",
       "      <th>Asian</th>\n",
       "      <th>Black/African-American</th>\n",
       "      <th>Hispanic, no race specified</th>\n",
       "      <th>Hispanic, race specified</th>\n",
       "      <th>More than one race</th>\n",
       "      <th>Native hawaiian/Pacific Islander</th>\n",
       "      <th>White</th>\n",
       "    </tr>\n",
       "  </thead>\n",
       "  <tbody>\n",
       "    <tr>\n",
       "      <th>count</th>\n",
       "      <td>10477.000000</td>\n",
       "      <td>10477.000000</td>\n",
       "      <td>10477.000000</td>\n",
       "      <td>10477.000000</td>\n",
       "      <td>10477.000000</td>\n",
       "      <td>10477.000000</td>\n",
       "      <td>10477.000000</td>\n",
       "      <td>10477.000000</td>\n",
       "      <td>10477.000000</td>\n",
       "      <td>10477.000000</td>\n",
       "      <td>10477.000000</td>\n",
       "      <td>10477.000000</td>\n",
       "      <td>10477.000000</td>\n",
       "      <td>10477.000000</td>\n",
       "      <td>10477.000000</td>\n",
       "      <td>10477.000000</td>\n",
       "      <td>10477.000000</td>\n",
       "      <td>10477.000000</td>\n",
       "      <td>10477.000000</td>\n",
       "    </tr>\n",
       "    <tr>\n",
       "      <th>mean</th>\n",
       "      <td>0.501957</td>\n",
       "      <td>3.067577</td>\n",
       "      <td>3.114727</td>\n",
       "      <td>0.195138</td>\n",
       "      <td>0.183395</td>\n",
       "      <td>0.972076</td>\n",
       "      <td>4.373867</td>\n",
       "      <td>5.384557</td>\n",
       "      <td>0.106996</td>\n",
       "      <td>0.266163</td>\n",
       "      <td>0.118871</td>\n",
       "      <td>0.005727</td>\n",
       "      <td>0.086761</td>\n",
       "      <td>0.061850</td>\n",
       "      <td>0.004677</td>\n",
       "      <td>0.144412</td>\n",
       "      <td>0.079603</td>\n",
       "      <td>0.004486</td>\n",
       "      <td>0.612484</td>\n",
       "    </tr>\n",
       "    <tr>\n",
       "      <th>std</th>\n",
       "      <td>0.500020</td>\n",
       "      <td>1.346802</td>\n",
       "      <td>1.547766</td>\n",
       "      <td>0.952141</td>\n",
       "      <td>0.934146</td>\n",
       "      <td>1.135274</td>\n",
       "      <td>1.377094</td>\n",
       "      <td>3.180362</td>\n",
       "      <td>0.309123</td>\n",
       "      <td>0.756144</td>\n",
       "      <td>1.018759</td>\n",
       "      <td>0.075462</td>\n",
       "      <td>0.281499</td>\n",
       "      <td>0.240894</td>\n",
       "      <td>0.068231</td>\n",
       "      <td>0.351523</td>\n",
       "      <td>0.270690</td>\n",
       "      <td>0.066831</td>\n",
       "      <td>0.487206</td>\n",
       "    </tr>\n",
       "    <tr>\n",
       "      <th>min</th>\n",
       "      <td>0.000000</td>\n",
       "      <td>1.000000</td>\n",
       "      <td>1.000000</td>\n",
       "      <td>-4.350000</td>\n",
       "      <td>-3.380000</td>\n",
       "      <td>-2.601900</td>\n",
       "      <td>2.000000</td>\n",
       "      <td>1.000000</td>\n",
       "      <td>0.000000</td>\n",
       "      <td>-1.892400</td>\n",
       "      <td>-1.540000</td>\n",
       "      <td>0.000000</td>\n",
       "      <td>0.000000</td>\n",
       "      <td>0.000000</td>\n",
       "      <td>0.000000</td>\n",
       "      <td>0.000000</td>\n",
       "      <td>0.000000</td>\n",
       "      <td>0.000000</td>\n",
       "      <td>0.000000</td>\n",
       "    </tr>\n",
       "    <tr>\n",
       "      <th>25%</th>\n",
       "      <td>0.000000</td>\n",
       "      <td>2.000000</td>\n",
       "      <td>2.000000</td>\n",
       "      <td>-0.390000</td>\n",
       "      <td>-0.280000</td>\n",
       "      <td>0.295600</td>\n",
       "      <td>3.000000</td>\n",
       "      <td>3.000000</td>\n",
       "      <td>0.000000</td>\n",
       "      <td>-0.324100</td>\n",
       "      <td>-0.420000</td>\n",
       "      <td>0.000000</td>\n",
       "      <td>0.000000</td>\n",
       "      <td>0.000000</td>\n",
       "      <td>0.000000</td>\n",
       "      <td>0.000000</td>\n",
       "      <td>0.000000</td>\n",
       "      <td>0.000000</td>\n",
       "      <td>0.000000</td>\n",
       "    </tr>\n",
       "    <tr>\n",
       "      <th>50%</th>\n",
       "      <td>1.000000</td>\n",
       "      <td>3.000000</td>\n",
       "      <td>3.000000</td>\n",
       "      <td>0.160000</td>\n",
       "      <td>0.290000</td>\n",
       "      <td>0.914300</td>\n",
       "      <td>4.000000</td>\n",
       "      <td>5.000000</td>\n",
       "      <td>0.000000</td>\n",
       "      <td>0.248500</td>\n",
       "      <td>0.160000</td>\n",
       "      <td>0.000000</td>\n",
       "      <td>0.000000</td>\n",
       "      <td>0.000000</td>\n",
       "      <td>0.000000</td>\n",
       "      <td>0.000000</td>\n",
       "      <td>0.000000</td>\n",
       "      <td>0.000000</td>\n",
       "      <td>1.000000</td>\n",
       "    </tr>\n",
       "    <tr>\n",
       "      <th>75%</th>\n",
       "      <td>1.000000</td>\n",
       "      <td>4.000000</td>\n",
       "      <td>4.000000</td>\n",
       "      <td>1.000000</td>\n",
       "      <td>1.010000</td>\n",
       "      <td>1.887800</td>\n",
       "      <td>5.000000</td>\n",
       "      <td>7.000000</td>\n",
       "      <td>0.000000</td>\n",
       "      <td>0.843000</td>\n",
       "      <td>0.700000</td>\n",
       "      <td>0.000000</td>\n",
       "      <td>0.000000</td>\n",
       "      <td>0.000000</td>\n",
       "      <td>0.000000</td>\n",
       "      <td>0.000000</td>\n",
       "      <td>0.000000</td>\n",
       "      <td>0.000000</td>\n",
       "      <td>1.000000</td>\n",
       "    </tr>\n",
       "    <tr>\n",
       "      <th>max</th>\n",
       "      <td>1.000000</td>\n",
       "      <td>7.000000</td>\n",
       "      <td>7.000000</td>\n",
       "      <td>1.590000</td>\n",
       "      <td>1.390000</td>\n",
       "      <td>4.504600</td>\n",
       "      <td>11.000000</td>\n",
       "      <td>13.000000</td>\n",
       "      <td>1.000000</td>\n",
       "      <td>2.661700</td>\n",
       "      <td>1.820000</td>\n",
       "      <td>1.000000</td>\n",
       "      <td>1.000000</td>\n",
       "      <td>1.000000</td>\n",
       "      <td>1.000000</td>\n",
       "      <td>1.000000</td>\n",
       "      <td>1.000000</td>\n",
       "      <td>1.000000</td>\n",
       "      <td>1.000000</td>\n",
       "    </tr>\n",
       "  </tbody>\n",
       "</table>\n",
       "</div>"
      ],
      "text/plain": [
       "              X1SEX      X1MOMEDU      X1DADEDU   X1SCHOOLBEL   X1SCHOOLENG  \\\n",
       "count  10477.000000  10477.000000  10477.000000  10477.000000  10477.000000   \n",
       "mean       0.501957      3.067577      3.114727      0.195138      0.183395   \n",
       "std        0.500020      1.346802      1.547766      0.952141      0.934146   \n",
       "min        0.000000      1.000000      1.000000     -4.350000     -3.380000   \n",
       "25%        0.000000      2.000000      2.000000     -0.390000     -0.280000   \n",
       "50%        1.000000      3.000000      3.000000      0.160000      0.290000   \n",
       "75%        1.000000      4.000000      4.000000      1.000000      1.010000   \n",
       "max        1.000000      7.000000      7.000000      1.590000      1.390000   \n",
       "\n",
       "            X2TXMTH    X2HHNUMBER   X2FAMINCOME     X2POVERTY       X2SES_U  \\\n",
       "count  10477.000000  10477.000000  10477.000000  10477.000000  10477.000000   \n",
       "mean       0.972076      4.373867      5.384557      0.106996      0.266163   \n",
       "std        1.135274      1.377094      3.180362      0.309123      0.756144   \n",
       "min       -2.601900      2.000000      1.000000      0.000000     -1.892400   \n",
       "25%        0.295600      3.000000      3.000000      0.000000     -0.324100   \n",
       "50%        0.914300      4.000000      5.000000      0.000000      0.248500   \n",
       "75%        1.887800      5.000000      7.000000      0.000000      0.843000   \n",
       "max        4.504600     11.000000     13.000000      1.000000      2.661700   \n",
       "\n",
       "            X2MTHID  American Indian/Alaska Native         Asian  \\\n",
       "count  10477.000000                   10477.000000  10477.000000   \n",
       "mean       0.118871                       0.005727      0.086761   \n",
       "std        1.018759                       0.075462      0.281499   \n",
       "min       -1.540000                       0.000000      0.000000   \n",
       "25%       -0.420000                       0.000000      0.000000   \n",
       "50%        0.160000                       0.000000      0.000000   \n",
       "75%        0.700000                       0.000000      0.000000   \n",
       "max        1.820000                       1.000000      1.000000   \n",
       "\n",
       "       Black/African-American  Hispanic, no race specified  \\\n",
       "count            10477.000000                 10477.000000   \n",
       "mean                 0.061850                     0.004677   \n",
       "std                  0.240894                     0.068231   \n",
       "min                  0.000000                     0.000000   \n",
       "25%                  0.000000                     0.000000   \n",
       "50%                  0.000000                     0.000000   \n",
       "75%                  0.000000                     0.000000   \n",
       "max                  1.000000                     1.000000   \n",
       "\n",
       "       Hispanic, race specified  More than one race  \\\n",
       "count              10477.000000        10477.000000   \n",
       "mean                   0.144412            0.079603   \n",
       "std                    0.351523            0.270690   \n",
       "min                    0.000000            0.000000   \n",
       "25%                    0.000000            0.000000   \n",
       "50%                    0.000000            0.000000   \n",
       "75%                    0.000000            0.000000   \n",
       "max                    1.000000            1.000000   \n",
       "\n",
       "       Native hawaiian/Pacific Islander         White  \n",
       "count                      10477.000000  10477.000000  \n",
       "mean                           0.004486      0.612484  \n",
       "std                            0.066831      0.487206  \n",
       "min                            0.000000      0.000000  \n",
       "25%                            0.000000      0.000000  \n",
       "50%                            0.000000      1.000000  \n",
       "75%                            0.000000      1.000000  \n",
       "max                            1.000000      1.000000  "
      ]
     },
     "execution_count": 19,
     "metadata": {},
     "output_type": "execute_result"
    }
   ],
   "source": [
    "# One hot encode race\n",
    "race_dummies = pd.get_dummies(data['X1RACE'].astype(str))\n",
    "race_dummies = race_dummies.rename(columns={\"1\": \"American Indian/Alaska Native\", \"2\": \"Asian\", \n",
    "                                            \"3\": \"Black/African-American\", \"4\": \"Hispanic, no race specified\",\n",
    "                                            \"5\": \"Hispanic, race specified\", \"6\": \"More than one race\",\n",
    "                                            \"7\": \"Native hawaiian/Pacific Islander\", \"8\": \"White\"})\n",
    "\n",
    "data_edit_dum = pd.concat([data, race_dummies], axis=\"columns\").drop(columns=\"X1RACE\")\n",
    "data_edit_dum.describe()"
   ]
  },
  {
   "cell_type": "markdown",
   "metadata": {},
   "source": [
    "### Training the Model: Linear Regression and Ordinary Least Squares"
   ]
  },
  {
   "cell_type": "code",
   "execution_count": 20,
   "metadata": {},
   "outputs": [],
   "source": [
    "#set up X (features) & y (target/response)\n",
    "X1 = data_edit_dum.drop(columns='X2TXMTH')\n",
    "X1 = X1.values\n",
    "\n",
    "y1 = data_edit_dum['X2TXMTH']\n",
    "y1 = y1.values"
   ]
  },
  {
   "cell_type": "code",
   "execution_count": 21,
   "metadata": {},
   "outputs": [
    {
     "name": "stdout",
     "output_type": "stream",
     "text": [
      "0.8021285920375467\n",
      "0.7176493268226993\n",
      "[-2.86751180e-02  8.18457980e-02  1.23520240e-01  6.15632118e-02\n",
      "  6.88543571e-02  3.26163427e-04  2.22819788e-02 -1.02563759e-01\n",
      "  1.00279442e-01  4.12596288e-01 -2.37981106e-01  5.59265926e-01\n",
      " -3.36081484e-01 -1.15909898e-01 -2.56199005e-02  1.11120952e-01\n",
      " -2.28445197e-02  6.80500286e-02]\n"
     ]
    }
   ],
   "source": [
    "#test size = 0.25 which is default of sklearn, shuffle = False\n",
    "X1_train, X1_test, y1_train, y1_test = train_test_split(X1, y1, test_size=0.25, shuffle=False)\n",
    "linreg1 = LinearRegression()\n",
    "linreg1.fit(X1_train, y1_train)\n",
    "linreg1_predictions = linreg1.predict(X1_test)\n",
    "linreg1_mse = mean_squared_error(y1_test, linreg1_predictions)\n",
    "linreg1_mae = mean_absolute_error(y1_test, linreg1_predictions)\n",
    "print(linreg1_mse)\n",
    "print(linreg1_mae)\n",
    "print(linreg1.coef_)"
   ]
  },
  {
   "cell_type": "markdown",
   "metadata": {},
   "source": [
    "### Training the Model: Neural Network"
   ]
  },
  {
   "cell_type": "code",
   "execution_count": 40,
   "metadata": {},
   "outputs": [],
   "source": [
    "normalizer = preprocessing.Normalization()\n",
    "normalizer.adapt(np.array(X1))\n",
    "\n",
    "nn1 = keras.Sequential([\n",
    "    normalizer,\n",
    "    keras.layers.Dense(64, activation='sigmoid'),\n",
    "    keras.layers.Dense(64, activation='sigmoid'),\n",
    "    keras.layers.Dense(1)\n",
    "])\n",
    "\n",
    "nn1.compile(\n",
    "    loss='mean_absolute_error', \n",
    "    optimizer=tf.keras.optimizers.Adam(0.001)\n",
    ")\n",
    "\n",
    "nn1_history = nn1.fit(X1_train, y1_train, epochs=50, verbose=0)"
   ]
  },
  {
   "cell_type": "code",
   "execution_count": 41,
   "metadata": {},
   "outputs": [
    {
     "name": "stdout",
     "output_type": "stream",
     "text": [
      "0.7975409959876096\n",
      "0.7109751937992472\n"
     ]
    }
   ],
   "source": [
    "nn1_predictions = nn1.predict(X1_test)\n",
    "nn1_mse = mean_squared_error(y1_test, nn1_predictions)\n",
    "nn1_mae = mean_absolute_error(y1_test, nn1_predictions)\n",
    "print(nn1_mse)\n",
    "print(nn1_mae)"
   ]
  },
  {
   "cell_type": "markdown",
   "metadata": {},
   "source": [
    "## ANOVA Testing: Measuring Variance of Math Theta Scores By Poverty and Income<a id='anova'></a>"
   ]
  },
  {
   "cell_type": "code",
   "execution_count": 9,
   "metadata": {},
   "outputs": [],
   "source": [
    "math_poverty = pd.read_csv('../data/HSLS_2017_Datasets/hsls_17_student.csv', usecols=['X2POVERTY', 'X2TXMTH'])\n",
    "math_poverty = math_poverty[(math_poverty['X2POVERTY'] >= 0) & (math_poverty['X2TXMTH'] > -8.0000)]"
   ]
  },
  {
   "cell_type": "code",
   "execution_count": 10,
   "metadata": {},
   "outputs": [
    {
     "data": {
      "text/plain": [
       "Text(0.5, 1.0, 'Mathematics theta score means and standard distributions based on poverty status')"
      ]
     },
     "execution_count": 10,
     "metadata": {},
     "output_type": "execute_result"
    },
    {
     "data": {
      "image/png": "[encoded data removed]",
      "text/plain": [
       "<Figure size 842.4x595.44 with 1 Axes>"
      ]
     },
     "metadata": {},
     "output_type": "display_data"
    },
    {
     "data": {
      "image/png": "[encoded data removed]",
      "text/plain": [
       "<Figure size 842.4x595.44 with 1 Axes>"
      ]
     },
     "metadata": {},
     "output_type": "display_data"
    }
   ],
   "source": [
    "plt.figure()\n",
    "math_poverty_boxplot = sns.boxplot(x=\"X2POVERTY\", y=\"X2TXMTH\", data=math_poverty)\n",
    "math_poverty_boxplot.set(ylabel=\"Mathematics theta score (X2TXMTH)\", xlabel=\"Poverty status (X2POVERTY)\")\n",
    "math_poverty_boxplot.set_title(\"Mathematics theta score distribution based on poverty status\")\n",
    "\n",
    "plt.figure()\n",
    "math_poverty_pointplot = sns.pointplot(x=\"X2POVERTY\", y=\"X2TXMTH\", data=math_poverty, join=False)\n",
    "math_poverty_pointplot.set(ylabel=\"Mathematics theta score (X2TXMTH)\", xlabel=\"Poverty status (X2POVERTY)\")\n",
    "math_poverty_pointplot.set_title(\"Mathematics theta score means and standard distributions based on poverty status\")"
   ]
  },
  {
   "cell_type": "code",
   "execution_count": 11,
   "metadata": {},
   "outputs": [
    {
     "name": "stdout",
     "output_type": "stream",
     "text": [
      "                 sum_sq       df           F         PR(>F)\n",
      "X2POVERTY    987.871369      1.0  772.971973  4.899952e-167\n",
      "Residual   26316.927301  20592.0         NaN            NaN\n"
     ]
    }
   ],
   "source": [
    "math_poverty_str = math_poverty.copy()\n",
    "math_poverty_str['X2POVERTY'] = math_poverty['X2POVERTY'].apply(str)\n",
    "math_poverty_mod = ols('X2TXMTH ~ X2POVERTY', data=math_poverty_str).fit()\n",
    "math_poverty_aov_table = sm.stats.anova_lm(math_poverty_mod, typ=2)\n",
    "print(math_poverty_aov_table)"
   ]
  },
  {
   "cell_type": "code",
   "execution_count": 12,
   "metadata": {},
   "outputs": [],
   "source": [
    "math_income = pd.read_csv('../data/HSLS_2017_Datasets/hsls_17_student.csv', usecols=['X2FAMINCOME', 'X2TXMTH'])\n",
    "math_income = math_income[(math_income['X2FAMINCOME'] >= 0) & (math_income['X2TXMTH'] > -8.0000)]"
   ]
  },
  {
   "cell_type": "code",
   "execution_count": 13,
   "metadata": {
    "scrolled": false
   },
   "outputs": [
    {
     "data": {
      "text/plain": [
       "Text(0.5, 1.0, 'Mathematics theta score means and standard deviations based on family income')"
      ]
     },
     "execution_count": 13,
     "metadata": {},
     "output_type": "execute_result"
    },
    {
     "data": {
      "image/png": "[encoded data removed]",
      "text/plain": [
       "<Figure size 842.4x595.44 with 1 Axes>"
      ]
     },
     "metadata": {},
     "output_type": "display_data"
    },
    {
     "data": {
      "image/png": "[encoded data removed]",
      "text/plain": [
       "<Figure size 842.4x595.44 with 1 Axes>"
      ]
     },
     "metadata": {},
     "output_type": "display_data"
    }
   ],
   "source": [
    "plt.figure()\n",
    "math_income_boxplot = sns.boxplot(x=\"X2FAMINCOME\", y=\"X2TXMTH\", data=math_income)\n",
    "math_income_boxplot.set(ylabel=\"Mathematics theta score (X2TXMTH)\", xlabel=\"Family income bracket (X2FAMINCOME)\")\n",
    "math_income_boxplot.set_title(\"Mathematics theta score distribution based on family income\")\n",
    "\n",
    "plt.figure()\n",
    "math_income_pointplot = sns.pointplot(x=\"X2FAMINCOME\", y=\"X2TXMTH\", data=math_income, join=False)\n",
    "math_income_pointplot.set(ylabel=\"Mathematics theta score (X2TXMTH)\", xlabel=\"Family income bracket (X2FAMINCOME)\")\n",
    "math_income_pointplot.set_title(\"Mathematics theta score means and standard deviations based on family income\")"
   ]
  },
  {
   "cell_type": "code",
   "execution_count": 14,
   "metadata": {},
   "outputs": [
    {
     "name": "stdout",
     "output_type": "stream",
     "text": [
      "                   sum_sq       df           F  PR(>F)\n",
      "X2FAMINCOME   2833.967430     12.0  198.623833     0.0\n",
      "Residual     24470.831239  20581.0         NaN     NaN\n"
     ]
    }
   ],
   "source": [
    "math_income_str = math_income.copy()\n",
    "math_income_str['X2FAMINCOME'] = math_income['X2FAMINCOME'].apply(str)\n",
    "math_income['X2FAMINCOME'] = math_income['X2FAMINCOME'].apply(str)\n",
    "math_income_mod = ols('X2TXMTH ~ X2FAMINCOME', data=math_income_str).fit()\n",
    "math_income_aov_table = sm.stats.anova_lm(math_income_mod, typ=2)\n",
    "print(math_income_aov_table)"
   ]
  },
  {
   "cell_type": "markdown",
   "metadata": {},
   "source": [
    "## Conclusions<a id='conclusions'></a>\n",
    "\n",
    "### Modeling Mathematics Theta Scores by Socioeconomic and Environmental Factors\n",
    "The neural network model was only marginally more successful at predicting test data than the linear regression model was. However, both models seemed relatively accurate with a mean squared error of approximately 0.8 with a data range of 7. More accurate predictions may require a greater number of variables to feed into the models.\n",
    "\n",
    "### ANOVA Testing: Measuring Variance of Mathematics Theta Scores By Poverty and Income\n",
    "The p-values for both poverty and income are extremely low, indicating that we can reject the null hypothesis and that poverty and income have significant impacts on students' mathematics theta scores and overall mathematics proficiency."
   ]
  }
 ],
 "metadata": {
  "kernelspec": {
   "display_name": "Python 3",
   "language": "python",
   "name": "python3"
  },
  "language_info": {
   "codemirror_mode": {
    "name": "ipython",
    "version": 3
   },
   "file_extension": ".py",
   "mimetype": "text/x-python",
   "name": "python",
   "nbconvert_exporter": "python",
   "pygments_lexer": "ipython3",
   "version": "3.8.5"
  }
 },
 "nbformat": 4,
 "nbformat_minor": 4
}
