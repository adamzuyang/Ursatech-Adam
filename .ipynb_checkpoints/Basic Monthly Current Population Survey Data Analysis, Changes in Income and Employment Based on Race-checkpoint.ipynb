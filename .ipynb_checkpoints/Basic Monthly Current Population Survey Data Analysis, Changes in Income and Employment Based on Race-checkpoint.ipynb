{
 "cells": [
  {
   "cell_type": "markdown",
   "metadata": {},
   "source": [
    "# Basic Monthly Current Population Survey (CPS) Data Analysis, Changes in Income and Employment Based on Race\n",
    "- Ursaminor Jupyter Notebook\n",
    "- 20 November 2020\n",
    "- By Barnett Yang"
   ]
  },
  {
   "cell_type": "markdown",
   "metadata": {},
   "source": [
    "## Table of Contents"
   ]
  },
  {
   "cell_type": "markdown",
   "metadata": {},
   "source": [
    "## Goals\n",
    "- Analyze raw CPS data and partition data according to race.\n",
    "- Track changes in income and employment based on race across the COVID-19 Pandemic (time period of interest if January to September, 2020).\n",
    "- Form conclusions regarding the impacts of the economic fallout resultant from the COVID-19 pandemic on academic performance based on race."
   ]
  },
  {
   "cell_type": "markdown",
   "metadata": {},
   "source": [
    "## Miscellaneous Notes and Libraries\n",
    "- CPS datasets can be found on this website under the CSV tab: https://data.nber.org/data/cps-basic2/.\n",
    "- The data dictionary for the relevant datasets can be found here: https://www2.census.gov/programs-surveys/cps/datasets/2020/basic/2020_Basic_CPS_Public_Use_Record_Layout_plus_IO_Code_list.txt."
   ]
  },
  {
   "cell_type": "code",
   "execution_count": 1,
   "metadata": {},
   "outputs": [],
   "source": [
    "import pandas as pd\n",
    "import numpy as np\n",
    "import matplotlib.pyplot as plt\n",
    "import seaborn as sns"
   ]
  },
  {
   "cell_type": "markdown",
   "metadata": {},
   "source": [
    "## Indicators and Relevant Variables"
   ]
  },
  {
   "cell_type": "markdown",
   "metadata": {},
   "source": [
    "### Demographic Variables\n",
    "- ptdtrace: Race\n",
    "    - For simplicity, and to be consistent with the analysis done for the Household Pulse Survey and High School Longitudinal Study, we will not consider those of mixed races and will only do so if time permits.\n",
    "    - 01: White only.\n",
    "    - 02: Black only.\n",
    "    - 03: American Indian, Alaskan Native only.\n",
    "    - 04: Asian only.\n",
    "    - 05: Hawaiian/Pacific Islander only.\n",
    "- pehspnon: Hispanic or non-Hispanic\n",
    "    - For simplicity, and to be consistent with the analysis done for the Household Pulse Survey and High School Longitudinal Study, we will not consider those of mixed races and will only do so if time permits.\n",
    "    - 1: Hispanic.\n",
    "    - 2: Non-Hispanic."
   ]
  },
  {
   "cell_type": "markdown",
   "metadata": {},
   "source": [
    "### Income and Employment Variables\n",
    "- hefaminc: Family Income, in dollars (Combined income of all family members during the last 12 months. Includes money from jobs, net income from business, farm or rent, pensions, dividents, interest, Social Security payments and any other money income received by family members who are 15 years of age or older)\n",
    "    - 1: less than 5000\n",
    "    - 2: 5000 to 7499\n",
    "    - 3: 7500 to 9999\n",
    "    - 4: 10000 to 12499\n",
    "    - 5: 12500 to 14999\n",
    "    - 6: 15000 to 19999\n",
    "    - 7: 20000 to 24999\n",
    "    - 8: 25000 to 29999\n",
    "    - 9: 30000 to 34999\n",
    "    - 10: 35000 to 39999\n",
    "    - 11: 40000 to 49999\n",
    "    - 12: 50000 to 59999\n",
    "    - 13: 60000 to 74999\n",
    "    - 14: 75000 to 99999\n",
    "    - 15: 100000 to 149999\n",
    "    - 16: 150000 or more\n",
    "- puwk: Last week, did you do any work for (either) pay (or profit)?\n",
    "    - 1: Yes\n",
    "    - 2: No\n",
    "    - 3: Retired\n",
    "    - 4: Disabled\n",
    "    - 5: Unable to work\n",
    "    - Do not consider 3, 4, or 5 since those are outside of the labor force.\n",
    "    - Do not consider negative values, since those likely indicate non-respondants\n",
    "- puabsot: Last week, did you have a job either full or part-time?\n",
    "    - 1: Yes\n",
    "    - 2: No\n",
    "    - 3: Retired\n",
    "    - 4: Disabled\n",
    "    - 5: Unable to work\n",
    "    - Do not consider 3, 4, or 5 since those are outside of the labor force.\n",
    "    - Do not consider negative values, since those likely indicate non-respondants\n",
    "    - May not be a good indicator. ~90% of values are negative\n",
    "- pulay: Last week, were you on layoff from a job?\n",
    "    - 1: Yes\n",
    "    - 2: No\n",
    "    - 3: Retired\n",
    "    - 4: Disabled\n",
    "    - 5: Unable to work\n",
    "    - Do not consider 3, 4, or 5 since those are outside of the labor force.\n",
    "    - Do not consider negative values, since those likely indicate non-respondants\n",
    "    - May not be a good indicator. ~90% of values are negative\n",
    "- Can consider other factors later if time permits."
   ]
  },
  {
   "cell_type": "markdown",
   "metadata": {},
   "source": [
    "## Upload Data and Constants"
   ]
  },
  {
   "cell_type": "code",
   "execution_count": 20,
   "metadata": {},
   "outputs": [],
   "source": [
    "# Demographic variables\n",
    "dem_vars = ['ptdtrace', 'pehspnon']\n",
    "# Income and Employment variables\n",
    "eco_vars = ['hefaminc', 'puwk', 'puabsot', 'pulay']\n",
    "\n",
    "all_vars = dem_vars + eco_vars\n",
    "\n",
    "jan = pd.read_csv('../data/Current_Population_Survey/cpsb202001.csv', usecols=all_vars)\n",
    "feb = pd.read_csv('../data/Current_Population_Survey/cpsb202002.csv', usecols=all_vars)\n",
    "mar = pd.read_csv('../data/Current_Population_Survey/cpsb202003.csv', usecols=all_vars)\n",
    "apr = pd.read_csv('../data/Current_Population_Survey/cpsb202004.csv', usecols=all_vars)\n",
    "may = pd.read_csv('../data/Current_Population_Survey/cpsb202005.csv', usecols=all_vars)\n",
    "jun = pd.read_csv('../data/Current_Population_Survey/cpsb202006.csv', usecols=all_vars)\n",
    "jul = pd.read_csv('../data/Current_Population_Survey/cpsb202007.csv', usecols=all_vars)\n",
    "aug = pd.read_csv('../data/Current_Population_Survey/cpsb202008.csv', usecols=all_vars)\n",
    "sep = pd.read_csv('../data/Current_Population_Survey/cpsb202009.csv', usecols=all_vars)"
   ]
  },
  {
   "cell_type": "markdown",
   "metadata": {},
   "source": [
    "## Changes in Family Income Based on Race"
   ]
  },
  {
   "cell_type": "markdown",
   "metadata": {},
   "source": [
    "### Hispanic"
   ]
  },
  {
   "cell_type": "code",
   "execution_count": null,
   "metadata": {},
   "outputs": [],
   "source": []
  }
 ],
 "metadata": {
  "kernelspec": {
   "display_name": "Python 3",
   "language": "python",
   "name": "python3"
  },
  "language_info": {
   "codemirror_mode": {
    "name": "ipython",
    "version": 3
   },
   "file_extension": ".py",
   "mimetype": "text/x-python",
   "name": "python",
   "nbconvert_exporter": "python",
   "pygments_lexer": "ipython3",
   "version": "3.8.5"
  }
 },
 "nbformat": 4,
 "nbformat_minor": 4
}
